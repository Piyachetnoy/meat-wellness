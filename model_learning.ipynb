{
  "cells": [
    {
      "cell_type": "markdown",
      "metadata": {
        "colab_type": "text",
        "id": "view-in-github"
      },
      "source": [
        "<a href=\"https://colab.research.google.com/github/nalgo-intern/team-c-2024-summer-08-26/blob/main/model_learning.ipynb\" target=\"_parent\"><img src=\"https://colab.research.google.com/assets/colab-badge.svg\" alt=\"Open In Colab\"/></a>"
      ]
    },
    {
      "cell_type": "code",
      "execution_count": 3,
      "metadata": {
        "id": "YRyuZONUa9y2"
      },
      "outputs": [
        {
          "ename": "SyntaxError",
          "evalue": "invalid decimal literal (1140225940.py, line 16)",
          "output_type": "error",
          "traceback": [
            "\u001b[1;36m  Cell \u001b[1;32mIn[3], line 16\u001b[1;36m\u001b[0m\n\u001b[1;33m    EPOCH = 50pyt\u001b[0m\n\u001b[1;37m             ^\u001b[0m\n\u001b[1;31mSyntaxError\u001b[0m\u001b[1;31m:\u001b[0m invalid decimal literal\n"
          ]
        }
      ],
      "source": [
        "import numpy as np\n",
        "import os\n",
        "import cv2\n",
        "import matplotlib.pyplot as plt\n",
        "import random\n",
        "\n",
        "import torch\n",
        "import torch.nn as nn\n",
        "import torch.optim as optim\n",
        "\n",
        "device = torch.device(\"cuda\" if torch.cuda.is_available() else \"cpu\")\n",
        "print(device)\n",
        "\n",
        "BATCH_SIZE = 1\n",
        "CLASS = 2\n",
        "EPOCH = 50\n",
        "lr = 0.001"
      ]
    },
    {
      "cell_type": "code",
      "execution_count": null,
      "metadata": {
        "colab": {
          "base_uri": "https://localhost:8080/"
        },
        "id": "xzEIz6Jcqpqv",
        "outputId": "35a98d47-6691-46b6-af12-c1fc809a12bd"
      },
      "outputs": [],
      "source": [
        "from google.colab import drive\n",
        "drive.mount('/content/drive/')"
      ]
    },
    {
      "cell_type": "code",
      "execution_count": null,
      "metadata": {
        "id": "9j-RcwkUwYW6"
      },
      "outputs": [],
      "source": [
        "filepath = '/content/drive/MyDrive/dataset'\n",
        "trainfilepath = filepath + '/train/'\n",
        "testfilepath = filepath + '/test/_annotations.txt'\n",
        "sample = '/content/drive/MyDrive/modified_annotations_train.txt'\n",
        "train = '/content/drive/MyDrive/train/'"
      ]
    },
    {
      "cell_type": "code",
      "execution_count": null,
      "metadata": {
        "id": "DAgEfV8ashDG"
      },
      "outputs": [],
      "source": [
        "def loadDataSet(dataPath):\n",
        "    data = []\n",
        "    file = open(dataPath, \"r\")\n",
        "    content_list = file.readlines()\n",
        "    for i in range(len(content_list)):\n",
        "        txt = content_list[i]\n",
        "        imglabel = txt.split()\n",
        "        img = imglabel[0]\n",
        "        label = int(imglabel[1])\n",
        "        data.append([img,label])\n",
        "\n",
        "    X = [] #image\n",
        "    Y = [] #labels\n",
        "    for img,l in data:\n",
        "      X.append(img)\n",
        "      Y.append(l)\n",
        "    X = np.array(X)\n",
        "    Y = np.array(Y).reshape(len(Y),1)\n",
        "\n",
        "    return X,Y"
      ]
    },
    {
      "cell_type": "code",
      "execution_count": null,
      "metadata": {
        "id": "v6twZp3rWE05"
      },
      "outputs": [],
      "source": [
        "names,labels = loadDataSet(sample)"
      ]
    },
    {
      "cell_type": "code",
      "execution_count": null,
      "metadata": {
        "id": "PaCI8mptLRgK"
      },
      "outputs": [],
      "source": [
        "def loadToImage(array):\n",
        "    imagarray=[]\n",
        "    imageSize = 64\n",
        "    for filename in array:\n",
        "        # print(train+filename)\n",
        "        image = cv2.imread(train+filename,0)\n",
        "        image = cv2.resize(image,(imageSize,imageSize))\n",
        "        imagarray.append(image)\n",
        "    return imagarray"
      ]
    },
    {
      "cell_type": "code",
      "execution_count": null,
      "metadata": {
        "collapsed": true,
        "id": "oACjNimkYQfT"
      },
      "outputs": [],
      "source": [
        "images = loadToImage(names)\n",
        "images = np.array(images)"
      ]
    },
    {
      "cell_type": "code",
      "execution_count": null,
      "metadata": {
        "colab": {
          "base_uri": "https://localhost:8080/",
          "height": 1000
        },
        "collapsed": true,
        "id": "VYZK4M4ma4rw",
        "outputId": "064d3b30-39a7-4137-e5e3-e05f9c1fbb3e"
      },
      "outputs": [],
      "source": [
        "for i in range(5):\n",
        "    plt.imshow(images[i],cmap='gray')\n",
        "    plt.show()\n",
        "    print(labels[i])"
      ]
    },
    {
      "cell_type": "code",
      "execution_count": null,
      "metadata": {
        "id": "3Ig0UDhVpEqM"
      },
      "outputs": [],
      "source": [
        "import torch\n",
        "from torchvision import datasets\n",
        "from torch.utils.data.dataset import Subset\n",
        "from torch.utils.data import Dataset, DataLoader\n",
        "import torch.nn.functional as F\n",
        "import torchvision.transforms as T\n",
        "\n",
        "transform = T.Compose([T.Normalize(mean=[0.5], std=[0.5])])\n",
        "\n",
        "images = images.astype(np.float32) / 255.0\n",
        "images_tensor = torch.from_numpy(images).unsqueeze(-3)\n",
        "labels_tensor = torch.from_numpy(labels).long()\n",
        "\n",
        "# ラベルが適切な形状であることを確認\n",
        "if len(labels_tensor.shape) > 1:\n",
        "    labels_tensor = torch.argmax(labels_tensor, dim=1)  # マルチラベル形式の場合\n",
        "\n",
        "class CustomDataset(Dataset):\n",
        "  def __init__(self, images, labels, transform):\n",
        "    self.images = images\n",
        "    self.labels = labels\n",
        "    self.transform = transform\n",
        "\n",
        "  def __len__(self):\n",
        "    return len(self.images)\n",
        "\n",
        "  def __getitem__(self, idx):\n",
        "    image = self.images[idx]\n",
        "    label = self.labels[idx]\n",
        "    print(image.shape)\n",
        "    if self.transform:\n",
        "      image = self.transform(image)\n",
        "\n",
        "    return image, label\n",
        "\n",
        "# カスタムデータセットを作成\n",
        "datasets = CustomDataset(images_tensor, labels_tensor, transform=transform)\n",
        "\n",
        "# データセットのサイズを取得\n",
        "dataset_size = len(datasets)\n",
        "indices = list(range(dataset_size))\n",
        "np.random.shuffle(indices)\n",
        "\n",
        "# 訓練データ、検証データ、テストデータに分割\n",
        "train_split = int(np.floor(0.8 * dataset_size))\n",
        "train_indices = indices[:train_split]\n",
        "test_indices = indices[train_split:]\n",
        "\n",
        "train_dataset = Subset(datasets, train_indices)\n",
        "test_dataset = Subset(datasets, test_indices)\n",
        "\n",
        "# DataLoaderの作成\n",
        "train_loader = DataLoader(train_dataset, batch_size=1, shuffle=True)\n",
        "test_loader = DataLoader(test_dataset, batch_size=1, shuffle=False)"
      ]
    },
    {
      "cell_type": "code",
      "execution_count": null,
      "metadata": {
        "id": "Lk7HiU83jd8y"
      },
      "outputs": [],
      "source": [
        "import torch.nn as nn\n",
        "\n",
        "class Net(nn.Module):\n",
        "  def __init__(self, class_num):\n",
        "    super(Net, self).__init__()\n",
        "    self.feature = nn.Sequential(\n",
        "          # ブロック1\n",
        "          nn.Conv2d(1, 32, kernel_size=3, padding=(1,1), padding_mode=\"replicate\"),\n",
        "          nn.ReLU(),\n",
        "          nn.Conv2d(32, 64, kernel_size=3, padding=(1,1), padding_mode=\"replicate\"),\n",
        "          nn.ReLU(),\n",
        "          nn.MaxPool2d((2,2)),\n",
        "          nn.Dropout(0.25),\n",
        "\n",
        "          # ブロック2\n",
        "          nn.Conv2d(64, 128, kernel_size=3, padding=(1,1), padding_mode=\"replicate\"),\n",
        "          nn.ReLU(),\n",
        "          nn.Conv2d(128, 128, kernel_size=3, padding=(1,1), padding_mode=\"replicate\"),\n",
        "          nn.ReLU(),\n",
        "          nn.MaxPool2d((2,2)),\n",
        "          nn.Dropout(0.25)\n",
        "    )\n",
        "    self.classifier = nn.Sequential(\n",
        "        nn.Linear(32768, 512),\n",
        "        nn.Dropout(0.5),\n",
        "        nn.Linear(512, class_num)\n",
        "\n",
        "    )\n",
        "\n",
        "  def forward(self, x):\n",
        "    x = self.feature(x)\n",
        "    x = x.view(x.size()[0], -1)\n",
        "    #print(x.size())\n",
        "    x = self.classifier(x)\n",
        "    return x"
      ]
    },
    {
      "cell_type": "code",
      "execution_count": null,
      "metadata": {
        "id": "EYQYy_fEjgUK"
      },
      "outputs": [],
      "source": [
        "import torch.optim as optim\n",
        "\n",
        "net = Net(class_num = CLASS)\n",
        "net = net.to(device)\n",
        "cel = nn.CrossEntropyLoss()\n",
        "optimizer = optim.Adam(net.parameters(), lr=lr)"
      ]
    },
    {
      "cell_type": "code",
      "execution_count": null,
      "metadata": {
        "colab": {
          "base_uri": "https://localhost:8080/",
          "height": 478
        },
        "id": "kIpon69Bjh-7",
        "outputId": "7f4ad439-e35c-4ccd-91f9-8fd73e2f3c0f"
      },
      "outputs": [],
      "source": [
        "train_loss_list = []\n",
        "train_acc_list = []\n",
        "test_loss_list = []\n",
        "test_acc_list = []\n",
        "\n",
        "for epoch in range(EPOCH):\n",
        "\n",
        "  # モデル学習\n",
        "  train_loss_num = 0\n",
        "  train_num = 0\n",
        "  train_correct_num = 0\n",
        "\n",
        "  for (inputs, labels) in train_loader:\n",
        "    print(labels.shape, inputs.shape)\n",
        "    inputs, labels = inputs.to(device), labels.to(device)\n",
        "    optimizer.zero_grad()\n",
        "    outputs = net(inputs)\n",
        "    loss = cel(outputs, labels)\n",
        "    loss.backward()\n",
        "    optimizer.step()\n",
        "    loss = cel(outputs, labels)\n",
        "    train_loss_num += loss.item()\n",
        "    _, predicted = outputs.max(1)\n",
        "    train_num += labels.size(0)\n",
        "    train_correct_num += (predicted == labels).sum().item()\n",
        "\n",
        "  # 学習ごとの検証\n",
        "  test_loss_num = 0\n",
        "  test_num = 0\n",
        "  test_correct_num = 0\n",
        "\n",
        "  with torch.no_grad():\n",
        "    for (inputs, labels) in test_loader:\n",
        "      inputs, labels = inputs.to(device), labels.to(device)\n",
        "      optimizer.zero_grad()\n",
        "      outputs = net(inputs)\n",
        "      loss = cel(outputs, labels)\n",
        "      test_loss_num += loss.item()\n",
        "      _, predicted = outputs.max(1)\n",
        "      test_num += labels.size(0)\n",
        "      test_correct_num += (predicted == labels).sum().item()\n",
        "\n",
        "  if epoch % 5 == 0:\n",
        "    print(f\"学習回数：{epoch}, train_loss値:{train_loss_num/train_num}, train_正解率：{train_correct_num/train_num},  test_loss値:{test_loss_num/test_num}, test_正解率：{test_correct_num/test_num}\")\n",
        "\n",
        "  train_loss_list.append(train_loss_num)\n",
        "  train_acc_list.append(train_correct_num/train_num)\n",
        "  test_loss_list.append(test_loss_num)\n",
        "  test_acc_list.append(test_correct_num/test_num)\n",
        "\n",
        "# 重みを保存する\n",
        "model_path = 'model.pth'\n",
        "torch.save(net.to(\"cpu\").state_dict(), model_path)\n"
      ]
    },
    {
      "cell_type": "code",
      "execution_count": null,
      "metadata": {
        "id": "vJoW4pxPjkZ1"
      },
      "outputs": [],
      "source": [
        "import matplotlib.pyplot as plt\n",
        "\n",
        "plt.figure(figsize = (6, 6))\n",
        "plt.plot(range(EPOCH), test_loss_list)\n",
        "plt.plot(range(EPOCH), train_loss_list, c=\"#00ff00\")\n",
        "plt.xlim(0, EPOCH)\n",
        "plt.ylim(0, 1)\n",
        "plt.xlabel(\"EPOCH\")\n",
        "plt.ylabel(\"LOSS\")\n",
        "plt.plot()"
      ]
    },
    {
      "cell_type": "code",
      "execution_count": null,
      "metadata": {
        "id": "9ZsKIxHkjmR7"
      },
      "outputs": [],
      "source": [
        "plt.figure(figsize = (6, 6))\n",
        "plt.plot(range(EPOCH), test_acc_list)\n",
        "plt.plot(range(EPOCH), train_acc_list, c='#00ff00')\n",
        "plt.xlim(0, EPOCH)\n",
        "plt.ylim(0, 1.0)\n",
        "plt.xlabel(\"EPOCH\")\n",
        "plt.ylabel(\"ACC\")\n",
        "plt.plot()"
      ]
    }
  ],
  "metadata": {
    "colab": {
      "include_colab_link": true,
      "provenance": []
    },
    "kernelspec": {
      "display_name": "Python 3",
      "name": "python3"
    },
    "language_info": {
      "codemirror_mode": {
        "name": "ipython",
        "version": 3
      },
      "file_extension": ".py",
      "mimetype": "text/x-python",
      "name": "python",
      "nbconvert_exporter": "python",
      "pygments_lexer": "ipython3",
      "version": "3.12.5"
    }
  },
  "nbformat": 4,
  "nbformat_minor": 0
}
