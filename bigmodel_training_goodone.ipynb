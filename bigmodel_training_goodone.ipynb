{
  "cells": [
    {
      "cell_type": "markdown",
      "metadata": {
        "id": "view-in-github",
        "colab_type": "text"
      },
      "source": [
        "<a href=\"https://colab.research.google.com/github/nalgo-intern/team-c-2024-summer-08-26/blob/main/bigmodel_training_goodone.ipynb\" target=\"_parent\"><img src=\"https://colab.research.google.com/assets/colab-badge.svg\" alt=\"Open In Colab\"/></a>"
      ]
    },
    {
      "cell_type": "code",
      "execution_count": null,
      "metadata": {
        "id": "YRyuZONUa9y2",
        "outputId": "5a8c8aa6-7bef-4790-8f63-214876ebda9c",
        "colab": {
          "base_uri": "https://localhost:8080/"
        }
      },
      "outputs": [
        {
          "output_type": "stream",
          "name": "stdout",
          "text": [
            "cuda\n"
          ]
        }
      ],
      "source": [
        "import numpy as np\n",
        "import os\n",
        "import cv2\n",
        "import matplotlib.pyplot as plt\n",
        "import random\n",
        "\n",
        "import torch\n",
        "import torch.nn as nn\n",
        "import torch.optim as optim\n",
        "\n",
        "device = torch.device(\"cuda\" if torch.cuda.is_available() else \"cpu\")\n",
        "print(device)\n",
        "\n",
        "BATCH_SIZE = 1\n",
        "CLASS = 2\n",
        "EPOCH = 24\n",
        "lr = 0.001"
      ]
    },
    {
      "cell_type": "code",
      "execution_count": null,
      "metadata": {
        "colab": {
          "base_uri": "https://localhost:8080/"
        },
        "id": "xzEIz6Jcqpqv",
        "outputId": "c3b224dd-605a-4e1e-95e3-028fb4dff841"
      },
      "outputs": [
        {
          "output_type": "stream",
          "name": "stdout",
          "text": [
            "Drive already mounted at /content/drive/; to attempt to forcibly remount, call drive.mount(\"/content/drive/\", force_remount=True).\n"
          ]
        }
      ],
      "source": [
        "from google.colab import drive\n",
        "drive.mount('/content/drive/')"
      ]
    },
    {
      "cell_type": "code",
      "execution_count": null,
      "metadata": {
        "id": "9j-RcwkUwYW6"
      },
      "outputs": [],
      "source": [
        "mainpath = '/content/drive/MyDrive/'\n",
        "trainpath = mainpath + 'train/'\n",
        "annt = mainpath + 'annotation.txt'"
      ]
    },
    {
      "cell_type": "code",
      "execution_count": null,
      "metadata": {
        "id": "DAgEfV8ashDG"
      },
      "outputs": [],
      "source": [
        "def loadDataSet(dataPath):\n",
        "    data = []\n",
        "    file = open(dataPath, \"r\")\n",
        "    content_list = file.readlines()\n",
        "    for i in range(len(content_list)):\n",
        "        txt = content_list[i]\n",
        "        imglabel = txt.split()\n",
        "        img = imglabel[0]\n",
        "        label = 0 if imglabel[-1].endswith('g') else int(imglabel[-1][-1])\n",
        "        #print(label)\n",
        "        data.append([img,label])\n",
        "\n",
        "    random.shuffle(data)\n",
        "\n",
        "    X = [] #image\n",
        "    Y = [] #labels\n",
        "    for img,l in data:\n",
        "      X.append(img)\n",
        "      Y.append(l)\n",
        "    X = np.array(X)\n",
        "    Y = np.array(Y).reshape(len(Y),1)\n",
        "\n",
        "    return X,Y\n",
        "\n",
        "names,labels = loadDataSet(annt)"
      ]
    },
    {
      "cell_type": "code",
      "execution_count": null,
      "metadata": {
        "id": "PaCI8mptLRgK"
      },
      "outputs": [],
      "source": [
        "# def loadToImage(array):\n",
        "#     imagarray=[]\n",
        "#     imageSize = 64\n",
        "#     for filename in array:\n",
        "#         # print(train+filename)\n",
        "#         image = cv2.imread(trainpath+filename,0)\n",
        "#         image = cv2.resize(image,(imageSize,imageSize))\n",
        "#         imagarray.append(image)\n",
        "#     return imagarray\n",
        "# images = loadToImage(names)\n",
        "# images = np.array(images)"
      ]
    },
    {
      "cell_type": "code",
      "source": [
        "from concurrent.futures import ThreadPoolExecutor\n",
        "def load_single_image(filename):\n",
        "    imageSize = 64\n",
        "    image = cv2.imread(trainpath + filename, 0)\n",
        "    return cv2.resize(image, (imageSize, imageSize))\n",
        "\n",
        "def loadToImage(array):\n",
        "    with ThreadPoolExecutor() as executor:\n",
        "        imagarray = list(executor.map(load_single_image, array))\n",
        "    return imagarray\n",
        "\n",
        "images = loadToImage(names)\n",
        "images = np.array(images)\n",
        "#print(images)"
      ],
      "metadata": {
        "id": "Efzs0Ohwaivk"
      },
      "execution_count": null,
      "outputs": []
    },
    {
      "cell_type": "code",
      "execution_count": null,
      "metadata": {
        "collapsed": true,
        "id": "VYZK4M4ma4rw"
      },
      "outputs": [],
      "source": [
        "# for i in range(5):\n",
        "#     plt.imshow(images[i],cmap='gray')\n",
        "#     plt.show()\n",
        "#     print(labels[i])"
      ]
    },
    {
      "cell_type": "code",
      "execution_count": null,
      "metadata": {
        "id": "3Ig0UDhVpEqM",
        "colab": {
          "base_uri": "https://localhost:8080/"
        },
        "outputId": "72835fc8-df63-42de-d5b0-dc3c755f0e52"
      },
      "outputs": [
        {
          "output_type": "stream",
          "name": "stdout",
          "text": [
            "torch.Size([902])\n",
            "tensor([0, 1, 0, 1, 0, 0, 1, 1, 1, 1, 1, 1, 1, 0, 1, 1, 0, 0, 0, 0, 0, 1, 1, 1,\n",
            "        1, 0, 0, 0, 0, 0, 0, 0, 1, 0, 0, 0, 0, 0, 0, 1, 0, 0, 0, 0, 0, 0, 0, 0,\n",
            "        0, 0, 1, 0, 0, 1, 1, 0, 0, 0, 1, 1, 0, 0, 1, 1, 1, 0, 0, 0, 0, 1, 0, 0,\n",
            "        0, 1, 1, 1, 0, 0, 0, 0, 0, 0, 0, 0, 0, 1, 1, 1, 0, 1, 0, 0, 0, 0, 1, 0,\n",
            "        0, 0, 0, 1, 0, 0, 1, 0, 0, 0, 0, 1, 0, 0, 1, 1, 0, 0, 1, 0, 1, 0, 0, 0,\n",
            "        0, 0, 0, 1, 1, 0, 1, 1, 1, 0, 0, 1, 1, 0, 0, 0, 0, 0, 1, 0, 0, 1, 0, 0,\n",
            "        0, 0, 0, 0, 1, 1, 0, 0, 0, 1, 0, 0, 1, 0, 1, 0, 1, 0, 1, 1, 0, 1, 1, 1,\n",
            "        0, 0, 1, 0, 1, 1, 1, 0, 1, 0, 0, 0, 0, 1, 0, 0, 0, 0, 1, 0, 1, 1, 0, 1,\n",
            "        0, 1, 0, 0, 0, 0, 0, 0, 0, 0, 0, 0, 1, 0, 1, 0, 1, 0, 1, 1, 1, 0, 0, 0,\n",
            "        1, 1, 0, 0, 1, 0, 1, 0, 0, 1, 1, 1, 1, 0, 0, 1, 1, 1, 1, 0, 0, 0, 0, 1,\n",
            "        0, 0, 0, 0, 0, 1, 0, 0, 0, 0, 0, 0, 0, 0, 0, 1, 1, 0, 0, 1, 0, 1, 0, 0,\n",
            "        1, 0, 1, 0, 0, 1, 0, 0, 0, 1, 0, 0, 0, 1, 0, 0, 0, 0, 0, 0, 0, 0, 1, 1,\n",
            "        0, 1, 1, 1, 1, 0, 0, 0, 0, 1, 1, 0, 1, 1, 1, 0, 0, 1, 1, 0, 1, 0, 0, 1,\n",
            "        0, 1, 0, 0, 1, 0, 0, 0, 0, 1, 0, 1, 1, 1, 0, 1, 1, 0, 0, 0, 1, 0, 0, 1,\n",
            "        0, 0, 0, 1, 1, 0, 0, 1, 0, 0, 0, 0, 0, 0, 0, 1, 0, 0, 1, 1, 1, 0, 1, 1,\n",
            "        1, 0, 1, 0, 1, 0, 0, 0, 1, 0, 0, 1, 0, 1, 1, 1, 0, 1, 0, 0, 0, 0, 0, 0,\n",
            "        0, 0, 0, 0, 1, 0, 0, 0, 0, 0, 0, 0, 1, 1, 0, 0, 0, 1, 0, 0, 0, 0, 0, 0,\n",
            "        0, 0, 0, 0, 1, 0, 1, 0, 1, 0, 0, 0, 0, 0, 1, 0, 1, 0, 0, 0, 1, 0, 0, 0,\n",
            "        0, 1, 1, 1, 0, 0, 1, 0, 0, 1, 0, 0, 0, 0, 0, 1, 1, 0, 0, 0, 0, 1, 0, 0,\n",
            "        0, 0, 0, 0, 0, 1, 1, 0, 0, 0, 0, 0, 1, 0, 0, 0, 0, 0, 0, 0, 1, 0, 0, 0,\n",
            "        0, 0, 1, 1, 1, 1, 1, 0, 1, 1, 1, 1, 0, 1, 0, 0, 1, 1, 0, 1, 0, 0, 0, 0,\n",
            "        1, 0, 1, 1, 0, 0, 0, 0, 0, 1, 0, 1, 0, 0, 0, 0, 1, 0, 0, 1, 0, 1, 0, 0,\n",
            "        1, 1, 1, 0, 1, 0, 0, 0, 0, 1, 0, 1, 0, 0, 0, 0, 0, 0, 0, 0, 0, 0, 1, 1,\n",
            "        0, 0, 0, 0, 0, 0, 0, 1, 1, 0, 1, 1, 0, 1, 0, 0, 1, 0, 0, 0, 1, 1, 0, 0,\n",
            "        0, 0, 0, 0, 1, 0, 0, 1, 0, 1, 1, 1, 0, 0, 1, 1, 0, 0, 1, 0, 1, 1, 1, 0,\n",
            "        1, 1, 0, 1, 0, 0, 0, 0, 0, 1, 1, 1, 0, 1, 0, 1, 0, 0, 1, 1, 0, 0, 0, 0,\n",
            "        1, 1, 1, 0, 1, 1, 1, 0, 1, 0, 0, 0, 0, 0, 0, 0, 1, 1, 0, 1, 1, 0, 0, 0,\n",
            "        1, 0, 1, 0, 0, 1, 1, 0, 1, 0, 0, 0, 1, 1, 0, 0, 0, 1, 0, 0, 0, 0, 0, 1,\n",
            "        0, 0, 1, 0, 1, 1, 0, 0, 1, 1, 1, 1, 0, 0, 0, 1, 0, 0, 1, 0, 0, 0, 0, 0,\n",
            "        0, 0, 1, 0, 1, 0, 0, 1, 0, 0, 1, 1, 0, 0, 1, 0, 1, 0, 0, 0, 1, 0, 0, 0,\n",
            "        0, 0, 0, 0, 1, 0, 1, 0, 0, 0, 0, 0, 1, 0, 1, 1, 1, 1, 0, 0, 0, 0, 1, 1,\n",
            "        0, 1, 0, 1, 1, 0, 0, 1, 0, 0, 1, 0, 0, 1, 0, 0, 1, 1, 0, 1, 0, 0, 0, 0,\n",
            "        0, 1, 0, 1, 1, 1, 1, 1, 0, 1, 0, 1, 1, 1, 1, 1, 0, 0, 0, 0, 0, 0, 1, 1,\n",
            "        1, 0, 1, 0, 0, 1, 0, 0, 1, 0, 1, 0, 0, 1, 0, 0, 0, 0, 0, 0, 0, 0, 0, 1,\n",
            "        1, 0, 0, 0, 1, 0, 0, 1, 0, 0, 0, 1, 0, 0, 0, 1, 1, 1, 0, 0, 0, 1, 1, 1,\n",
            "        0, 1, 0, 0, 1, 1, 1, 0, 1, 0, 0, 1, 0, 0, 0, 1, 0, 0, 0, 0, 0, 0, 0, 1,\n",
            "        1, 1, 0, 1, 0, 0, 1, 0, 1, 0, 0, 0, 1, 0, 0, 1, 0, 0, 1, 0, 1, 0, 0, 0,\n",
            "        0, 0, 1, 0, 0, 0, 1, 0, 0, 0, 0, 0, 0, 0])\n"
          ]
        }
      ],
      "source": [
        "import torch\n",
        "from torchvision import datasets\n",
        "from torch.utils.data.dataset import Subset\n",
        "from torch.utils.data import Dataset, DataLoader\n",
        "import torch.nn.functional as F\n",
        "import torchvision.transforms as T\n",
        "\n",
        "transform = T.Compose([T.Normalize(mean=[0.5], std=[0.5])])\n",
        "\n",
        "images = images.astype(np.float32) / 255.0\n",
        "images_tensor = torch.from_numpy(images).unsqueeze(-3)\n",
        "labels_tensor = torch.from_numpy(labels).long()\n",
        "# print(labels_tensor.shape)\n",
        "# print(labels_tensor)\n",
        "\n",
        "# # ラベルが適切な形状であることを確認\n",
        "# if len(labels_tensor.shape) > 1:\n",
        "#     labels_tensor = torch.argmax(labels_tensor, dim=1)  # マルチラベル形式の場合\n",
        "labels_tensor = labels_tensor.squeeze(dim=1)\n",
        "print(labels_tensor.shape)\n",
        "print(labels_tensor)\n",
        "\n",
        "class CustomDataset(Dataset):\n",
        "  def __init__(self, images, labels, transform):\n",
        "    self.images = images\n",
        "    self.labels = labels\n",
        "    self.transform = transform\n",
        "\n",
        "  def __len__(self):\n",
        "    return len(self.images)\n",
        "\n",
        "  def __getitem__(self, idx):\n",
        "    image = self.images[idx]\n",
        "    label = self.labels[idx]\n",
        "    #print(image.shape)\n",
        "    if self.transform:\n",
        "      image = self.transform(image)\n",
        "\n",
        "    return image, label\n",
        "\n",
        "# カスタムデータセットを作成\n",
        "datasets = CustomDataset(images_tensor, labels_tensor, transform=transform)\n",
        "\n",
        "# 訓練データ、検証データ、テストデータに分割\n",
        "from torch.utils.data import random_split\n",
        "train_size = int(0.8 * len(datasets))\n",
        "test_size = len(datasets) - train_size\n",
        "train_dataset, test_dataset = random_split(datasets, [train_size, test_size])\n",
        "\n",
        "# DataLoaderの作成\n",
        "train_loader = DataLoader(train_dataset, batch_size=1, shuffle=False)\n",
        "test_loader = DataLoader(test_dataset, batch_size=1, shuffle=False)"
      ]
    },
    {
      "cell_type": "code",
      "execution_count": null,
      "metadata": {
        "id": "Lk7HiU83jd8y"
      },
      "outputs": [],
      "source": [
        "# import torch.nn as nn\n",
        "\n",
        "# class Net(nn.Module):\n",
        "#   def __init__(self, class_num):\n",
        "#     super(Net, self).__init__()\n",
        "#     self.feature = nn.Sequential(\n",
        "#           # ブロック1\n",
        "#           nn.Conv2d(1, 32, kernel_size=3, padding=(1,1), padding_mode=\"replicate\"),\n",
        "#           nn.ReLU(),\n",
        "#           nn.Conv2d(32, 64, kernel_size=3, padding=(1,1), padding_mode=\"replicate\"),\n",
        "#           nn.ReLU(),\n",
        "#           nn.MaxPool2d((2,2)),\n",
        "#           nn.Dropout(0.25),\n",
        "\n",
        "#           # ブロック2\n",
        "#           nn.Conv2d(64, 128, kernel_size=3, padding=(1,1), padding_mode=\"replicate\"),\n",
        "#           nn.ReLU(),\n",
        "#           nn.Conv2d(128, 128, kernel_size=3, padding=(1,1), padding_mode=\"replicate\"),\n",
        "#           nn.ReLU(),\n",
        "#           nn.MaxPool2d((2,2)),\n",
        "#           nn.Dropout(0.25)\n",
        "#     )\n",
        "#     self.classifier = nn.Sequential(\n",
        "#         nn.Linear(32768, 512),\n",
        "#         nn.Dropout(0.5),\n",
        "#         nn.Linear(512, class_num)\n",
        "\n",
        "#     )\n",
        "\n",
        "#   def forward(self, x):\n",
        "#     x = self.feature(x)\n",
        "#     x = x.view(x.size()[0], -1)\n",
        "#     #print(x.size())\n",
        "#     x = self.classifier(x)\n",
        "#     return x"
      ]
    },
    {
      "cell_type": "code",
      "source": [
        "import torch.nn as nn\n",
        "\n",
        "class Net(nn.Module):\n",
        "    def __init__(self, class_num):\n",
        "        super(Net, self).__init__()\n",
        "        self.feature = nn.Sequential(\n",
        "            nn.Conv2d(1, 32, kernel_size=3, padding=(1,1), padding_mode=\"replicate\"),\n",
        "            nn.BatchNorm2d(32),\n",
        "            nn.ReLU(),\n",
        "            nn.Conv2d(32, 64, kernel_size=3, padding=(1,1), padding_mode=\"replicate\"),\n",
        "            nn.BatchNorm2d(64),\n",
        "            nn.ReLU(),\n",
        "            nn.MaxPool2d((2,2)),\n",
        "            nn.Dropout(0.25),\n",
        "\n",
        "            nn.Conv2d(64, 128, kernel_size=3, padding=(1,1), padding_mode=\"replicate\"),\n",
        "            nn.BatchNorm2d(128),\n",
        "            nn.ReLU(),\n",
        "            nn.Conv2d(128, 128, kernel_size=3, padding=(1,1), padding_mode=\"replicate\"),\n",
        "            nn.BatchNorm2d(128),\n",
        "            nn.ReLU(),\n",
        "            nn.MaxPool2d((2,2)),\n",
        "            nn.Dropout(0.25)\n",
        "        )\n",
        "        self.classifier = nn.Sequential(\n",
        "            nn.Linear(32768, 512),\n",
        "            nn.ReLU(),\n",
        "            nn.Dropout(0.5),\n",
        "            nn.Linear(512, class_num)\n",
        "        )\n",
        "\n",
        "    def forward(self, x):\n",
        "        x = self.feature(x)\n",
        "        x = x.view(x.size()[0], -1)\n",
        "        x = self.classifier(x)\n",
        "        return x"
      ],
      "metadata": {
        "id": "Qm6xzuWLTWAy"
      },
      "execution_count": null,
      "outputs": []
    },
    {
      "cell_type": "code",
      "execution_count": null,
      "metadata": {
        "id": "EYQYy_fEjgUK"
      },
      "outputs": [],
      "source": [
        "import torch.optim as optim\n",
        "\n",
        "net = Net(class_num = CLASS)\n",
        "net = net.to(device)\n",
        "cel = nn.CrossEntropyLoss()\n",
        "optimizer = optim.Adam(net.parameters(), lr=lr)"
      ]
    },
    {
      "cell_type": "code",
      "execution_count": null,
      "metadata": {
        "id": "kIpon69Bjh-7"
      },
      "outputs": [],
      "source": [
        "# train_loss_list = []\n",
        "# train_acc_list = []\n",
        "# test_loss_list = []\n",
        "# test_acc_list = []\n",
        "\n",
        "# for epoch in range(EPOCH):\n",
        "\n",
        "#   # モデル学習\n",
        "#   train_loss_num = 0\n",
        "#   train_num = 0\n",
        "#   train_correct_num = 0\n",
        "\n",
        "#   for (inputs, labels) in train_loader:\n",
        "#     #print(labels.shape, inputs.shape)\n",
        "#     inputs, labels = inputs.to(device), labels.to(device)\n",
        "#     optimizer.zero_grad()\n",
        "#     outputs = net(inputs)\n",
        "#     loss = cel(outputs, labels)\n",
        "#     loss.backward()\n",
        "#     optimizer.step()\n",
        "#     loss = cel(outputs, labels)\n",
        "#     train_loss_num += loss.item()\n",
        "#     _, predicted = outputs.max(1)\n",
        "#     train_num += labels.size(0)\n",
        "#     train_correct_num += (predicted == labels).sum().item()\n",
        "\n",
        "#   # 学習ごとの検証\n",
        "#   test_loss_num = 0\n",
        "#   test_num = 0\n",
        "#   test_correct_num = 0\n",
        "\n",
        "#   with torch.no_grad():\n",
        "#     for (inputs, labels) in test_loader:\n",
        "#       #print(labels)\n",
        "#       inputs, labels = inputs.to(device), labels.to(device)\n",
        "#       optimizer.zero_grad()\n",
        "#       outputs = net(inputs)\n",
        "#       loss = cel(outputs, labels)\n",
        "#       test_loss_num += loss.item()\n",
        "#       _, predicted = outputs.max(1)\n",
        "#       test_num += labels.size(0)\n",
        "#       test_correct_num += (predicted == labels).sum().item()\n",
        "\n",
        "#   if epoch % 1 == 0:\n",
        "#     print(f\"学習回数：{epoch}, train_loss値:{train_loss_num/train_num}, train_正解率：{train_correct_num/train_num},  test_loss値:{test_loss_num/test_num}, test_正解率：{test_correct_num/test_num}\")\n",
        "\n",
        "#   train_loss_list.append(train_loss_num/train_num)\n",
        "#   train_acc_list.append(train_correct_num/train_num)\n",
        "#   test_loss_list.append(test_loss_num/test_num)\n",
        "#   test_acc_list.append(test_correct_num/test_num)\n"
      ]
    },
    {
      "cell_type": "code",
      "source": [
        "train_loss_list = []\n",
        "train_acc_list = []\n",
        "test_loss_list = []\n",
        "test_acc_list = []\n",
        "\n",
        "for epoch in range(EPOCH):\n",
        "\n",
        "    # モデル学習\n",
        "    train_loss_num = 0\n",
        "    train_num = 0\n",
        "    train_correct_num = 0\n",
        "\n",
        "    net.train()\n",
        "    for inputs, labels in train_loader:\n",
        "        inputs, labels = inputs.to(device), labels.to(device)\n",
        "        optimizer.zero_grad()\n",
        "        outputs = net(inputs)\n",
        "        loss = cel(outputs, labels)\n",
        "        loss.backward()\n",
        "        optimizer.step()\n",
        "\n",
        "        train_loss_num += loss.item()\n",
        "        _, predicted = outputs.max(1)\n",
        "        train_num += labels.size(0)\n",
        "        train_correct_num += (predicted == labels).sum().item()\n",
        "\n",
        "    # 学習ごとの検証\n",
        "    test_loss_num = 0\n",
        "    test_num = 0\n",
        "    test_correct_num = 0\n",
        "\n",
        "    net.eval()\n",
        "    with torch.no_grad():\n",
        "        for inputs, labels in test_loader:\n",
        "            inputs, labels = inputs.to(device), labels.to(device)\n",
        "            outputs = net(inputs)\n",
        "            loss = cel(outputs, labels)\n",
        "            test_loss_num += loss.item()\n",
        "            _, predicted = outputs.max(1)\n",
        "            test_num += labels.size(0)\n",
        "            test_correct_num += (predicted == labels).sum().item()\n",
        "\n",
        "    print(f\"学習回数：{epoch}, train_loss値: {train_loss_num/train_num}, train_正解率：{train_correct_num/train_num}, test_loss値: {test_loss_num/test_num}, test_正解率: {test_correct_num/test_num}\")\n",
        "\n",
        "    train_loss_list.append(train_loss_num/train_num)\n",
        "    train_acc_list.append(train_correct_num/train_num)\n",
        "    test_loss_list.append(test_loss_num/test_num)\n",
        "    test_acc_list.append(test_correct_num/test_num)"
      ],
      "metadata": {
        "colab": {
          "base_uri": "https://localhost:8080/"
        },
        "id": "LGIGl3YlSurz",
        "outputId": "b90c449d-bad1-4fa5-c7a7-87f2eadfec05"
      },
      "execution_count": null,
      "outputs": [
        {
          "output_type": "stream",
          "name": "stdout",
          "text": [
            "学習回数：0, train_loss値: 4.473968429643357, train_正解率：0.5672676837725381, test_loss値: 0.8034966481818678, test_正解率: 0.39226519337016574\n",
            "学習回数：1, train_loss値: 0.6793655227022387, train_正解率：0.636615811373093, test_loss値: 0.6848654141906876, test_正解率: 0.6077348066298343\n",
            "学習回数：2, train_loss値: 0.6750735853454447, train_正解率：0.6158113730929264, test_loss値: 1.1422569448879576, test_正解率: 0.40331491712707185\n",
            "学習回数：3, train_loss値: 0.7220065218593262, train_正解率：0.6421636615811374, test_loss値: 1.0448020863660628, test_正解率: 0.4088397790055249\n",
            "学習回数：4, train_loss値: 0.6927351668972772, train_正解率：0.6463245492371706, test_loss値: 0.8487275852230043, test_正解率: 0.430939226519337\n",
            "学習回数：5, train_loss値: 0.6629299545568904, train_正解率：0.6504854368932039, test_loss値: 0.6943033077851843, test_正解率: 0.580110497237569\n",
            "学習回数：6, train_loss値: 0.6342288938869738, train_正解率：0.6685159500693482, test_loss値: 0.7628946951822023, test_正解率: 0.48066298342541436\n",
            "学習回数：7, train_loss値: 0.5985895699289632, train_正解率：0.6893203883495146, test_loss値: 0.705933598283574, test_正解率: 0.5911602209944752\n",
            "学習回数：8, train_loss値: 0.5662698122160542, train_正解率：0.7059639389736477, test_loss値: 0.9005103782121637, test_正解率: 0.43646408839779005\n",
            "学習回数：9, train_loss値: 0.5148632292988921, train_正解率：0.7600554785020804, test_loss値: 1.0172341072839268, test_正解率: 0.43646408839779005\n",
            "学習回数：10, train_loss値: 0.4483593071423397, train_正解率：0.8002773925104022, test_loss値: 1.0198084653346497, test_正解率: 0.49171270718232046\n",
            "学習回数：11, train_loss値: 0.48171492105047825, train_正解率：0.7961165048543689, test_loss値: 0.8335029371815604, test_正解率: 0.5359116022099447\n",
            "学習回数：12, train_loss値: 0.40413199193866883, train_正解率：0.8363384188626907, test_loss値: 0.9980998610759665, test_正解率: 0.580110497237569\n",
            "学習回数：13, train_loss値: 0.3725519774074678, train_正解率：0.841886269070735, test_loss値: 1.1306837510301588, test_正解率: 0.5580110497237569\n",
            "学習回数：14, train_loss値: 0.2848705119557919, train_正解率：0.8807212205270458, test_loss値: 1.2293459959010404, test_正解率: 0.5359116022099447\n",
            "学習回数：15, train_loss値: 0.30053115350303544, train_正解率：0.8821081830790569, test_loss値: 1.4211087961650657, test_正解率: 0.580110497237569\n",
            "学習回数：16, train_loss値: 0.26590186968451196, train_正解率：0.9015256588072122, test_loss値: 1.1737664259471483, test_正解率: 0.5966850828729282\n",
            "学習回数：17, train_loss値: 0.2777317220491471, train_正解率：0.8918169209431346, test_loss値: 1.3637726379652797, test_正解率: 0.6077348066298343\n",
            "学習回数：18, train_loss値: 0.22927031630007055, train_正解率：0.912621359223301, test_loss値: 1.486263883838125, test_正解率: 0.5911602209944752\n",
            "学習回数：19, train_loss値: 0.26227661303451233, train_正解率：0.9015256588072122, test_loss値: 1.6388471350308575, test_正解率: 0.6298342541436464\n",
            "学習回数：20, train_loss値: 0.23330477608476338, train_正解率：0.9195561719833565, test_loss値: 1.1222302348285118, test_正解率: 0.574585635359116\n",
            "学習回数：21, train_loss値: 0.20168920851796907, train_正解率：0.9195561719833565, test_loss値: 1.4612028172086182, test_正解率: 0.5524861878453039\n",
            "学習回数：22, train_loss値: 0.1888988687562797, train_正解率：0.9223300970873787, test_loss値: 1.2915408828397479, test_正解率: 0.5911602209944752\n",
            "学習回数：23, train_loss値: 0.18172511289470408, train_正解率：0.9292649098474342, test_loss値: 1.9235931231919268, test_正解率: 0.5524861878453039\n"
          ]
        }
      ]
    },
    {
      "cell_type": "code",
      "source": [
        "print(train_loss_list)"
      ],
      "metadata": {
        "colab": {
          "base_uri": "https://localhost:8080/"
        },
        "id": "lv9mhEmBPcjP",
        "outputId": "ce43fe5f-85f8-47f4-cf06-d02a46db9e6e"
      },
      "execution_count": null,
      "outputs": [
        {
          "output_type": "stream",
          "name": "stdout",
          "text": [
            "[4.473968429643357, 0.6793655227022387, 0.6750735853454447, 0.7220065218593262, 0.6927351668972772, 0.6629299545568904, 0.6342288938869738, 0.5985895699289632, 0.5662698122160542, 0.5148632292988921, 0.4483593071423397, 0.48171492105047825, 0.40413199193866883, 0.3725519774074678, 0.2848705119557919, 0.30053115350303544, 0.26590186968451196, 0.2777317220491471, 0.22927031630007055, 0.26227661303451233, 0.23330477608476338, 0.20168920851796907, 0.1888988687562797, 0.18172511289470408]\n"
          ]
        }
      ]
    },
    {
      "cell_type": "code",
      "source": [
        "# 重みを保存する\n",
        "model_path = mainpath + 'modelnew.kpl'\n",
        "torch.save(net.to(\"cpu\").state_dict(), model_path)"
      ],
      "metadata": {
        "id": "r7Z-VOUV29mr"
      },
      "execution_count": null,
      "outputs": []
    },
    {
      "cell_type": "code",
      "execution_count": null,
      "metadata": {
        "id": "vJoW4pxPjkZ1",
        "colab": {
          "base_uri": "https://localhost:8080/",
          "height": 564
        },
        "outputId": "ab6e0a89-5f44-4e39-a83c-6c2d25ef2051"
      },
      "outputs": [
        {
          "output_type": "display_data",
          "data": {
            "text/plain": [
              "<Figure size 600x600 with 1 Axes>"
            ],
            "image/png": "[encoded data removed]"
          },
          "metadata": {}
        }
      ],
      "source": [
        "import matplotlib.pyplot as plt\n",
        "\n",
        "plt.figure(figsize=(6, 6))\n",
        "plt.plot(range(EPOCH), test_loss_list, label=\"Test Loss\", c=\"#ff0000\")  # You can specify a color for the test loss curve\n",
        "plt.plot(range(EPOCH), train_loss_list, label=\"Train Loss\", c=\"#00ff00\")\n",
        "plt.xlim(0, EPOCH)\n",
        "plt.ylim(0, 2)\n",
        "plt.xlabel(\"Epoch\")\n",
        "plt.ylabel(\"Loss\")\n",
        "plt.legend()  # Add a legend to distinguish the curves\n",
        "plt.title(\"Training and Testing Loss Over Epochs\")  # Optional: Add a title for clarity\n",
        "plt.show()  # Show the plot"
      ]
    },
    {
      "cell_type": "code",
      "execution_count": null,
      "metadata": {
        "id": "9ZsKIxHkjmR7",
        "colab": {
          "base_uri": "https://localhost:8080/",
          "height": 564
        },
        "outputId": "35c88c2c-9fe9-4c47-e2bb-9aabcbb7ef19"
      },
      "outputs": [
        {
          "output_type": "display_data",
          "data": {
            "text/plain": [
              "<Figure size 600x600 with 1 Axes>"
            ],
            "image/png": "[encoded data removed]"
          },
          "metadata": {}
        }
      ],
      "source": [
        "plt.figure(figsize=(6, 6))\n",
        "plt.plot(range(EPOCH), test_acc_list, label=\"Test Acc\", c=\"#ff0000\")  # You can specify a color for the test loss curve\n",
        "plt.plot(range(EPOCH), train_acc_list, label=\"Train Acc\", c=\"#00ff00\")\n",
        "plt.xlim(0, EPOCH)\n",
        "plt.ylim(0, 1)\n",
        "plt.xlabel(\"Epoch\")\n",
        "plt.ylabel(\"accuracy\")\n",
        "plt.legend()  # Add a legend to distinguish the curves\n",
        "plt.title(\"Training and Testing Accuracy Over Epochs\")  # Optional: Add a title for clarity\n",
        "plt.show()  # Show the plot"
      ]
    },
    {
      "cell_type": "code",
      "source": [
        "import torch\n",
        "import torch.nn as nn\n",
        "import torchvision.transforms as T\n",
        "import torch.optim as optim\n",
        "from PIL import Image\n",
        "import numpy as np\n",
        "\n",
        "class Net(nn.Module):\n",
        "    def __init__(self, class_num):\n",
        "        super(Net, self).__init__()\n",
        "        self.feature = nn.Sequential(\n",
        "            nn.Conv2d(1, 32, kernel_size=3, padding=(1,1), padding_mode=\"replicate\"),\n",
        "            nn.BatchNorm2d(32),\n",
        "            nn.ReLU(),\n",
        "            nn.Conv2d(32, 64, kernel_size=3, padding=(1,1), padding_mode=\"replicate\"),\n",
        "            nn.BatchNorm2d(64),\n",
        "            nn.ReLU(),\n",
        "            nn.MaxPool2d((2,2)),\n",
        "            nn.Dropout(0.25),\n",
        "\n",
        "            nn.Conv2d(64, 128, kernel_size=3, padding=(1,1), padding_mode=\"replicate\"),\n",
        "            nn.BatchNorm2d(128),\n",
        "            nn.ReLU(),\n",
        "            nn.Conv2d(128, 128, kernel_size=3, padding=(1,1), padding_mode=\"replicate\"),\n",
        "            nn.BatchNorm2d(128),\n",
        "            nn.ReLU(),\n",
        "            nn.MaxPool2d((2,2)),\n",
        "            nn.Dropout(0.25)\n",
        "        )\n",
        "        self.classifier = nn.Sequential(\n",
        "            nn.Linear(32768, 512),\n",
        "            nn.ReLU(),\n",
        "            nn.Dropout(0.5),\n",
        "            nn.Linear(512, class_num)\n",
        "        )\n",
        "\n",
        "    def forward(self, x):\n",
        "        x = self.feature(x)\n",
        "        x = x.view(x.size()[0], -1)\n",
        "        x = self.classifier(x)\n",
        "        return x\n",
        "\n",
        "class Model():\n",
        "  def __init__(self, path, num_class=2):\n",
        "    # Netクラスのインスタンス化\n",
        "    model = Net(num_class)\n",
        "    model_path = mainpath + 'modelnew.kpl'\n",
        "    model.load_state_dict(torch.load(model_path, map_location=torch.device('cpu')))\n",
        "    # 前処理を行う\n",
        "    input = self.pretreatment(path)\n",
        "    #画像判別\n",
        "    self.output = model(input)\n",
        "    self.prob = nn.functional.softmax(self.output, dim=1) #確率に変換する\n",
        "    self.result = torch.argmax(self.output).item()\n",
        "\n",
        "\n",
        "  def pretreatment(self, img_path, new_size=(64, 64)):\n",
        "    img = np.array(Image.open(img_path))\n",
        "\n",
        "    weights = np.array([0.2989, 0.5870, 0.1140])\n",
        "    gray_image = np.dot(img[...,:3], weights)\n",
        "\n",
        "    pil_image = Image.fromarray((gray_image * 255).astype(np.uint8))\n",
        "    pil_image_resized = pil_image.resize(new_size, Image.LANCZOS)\n",
        "    resized_image = np.array(pil_image_resized).astype(np.float32) / 255.0\n",
        "\n",
        "    transform = T.Compose([T.Normalize(mean=[0.5], std=[0.5])])\n",
        "    image_tensor = torch.from_numpy(resized_image).unsqueeze(-3).unsqueeze(-4)\n",
        "    image = transform(image_tensor)\n",
        "\n",
        "    return image\n",
        "\n",
        "if __name__ == \"__main__\":\n",
        "    #model = Model(path=\"./page/steak.png\")\n",
        "    model = Model(path=mainpath + \"/test/pp.jpeg\")\n",
        "    print(model.result)\n",
        "    print(model.prob)"
      ],
      "metadata": {
        "id": "_b3moySWQF3g",
        "colab": {
          "base_uri": "https://localhost:8080/"
        },
        "outputId": "cdddabf5-c7a5-4b1c-9b00-fb9c849281b5"
      },
      "execution_count": null,
      "outputs": [
        {
          "output_type": "stream",
          "name": "stderr",
          "text": [
            "<ipython-input-31-b4a0d8c5e6d1>:48: FutureWarning: You are using `torch.load` with `weights_only=False` (the current default value), which uses the default pickle module implicitly. It is possible to construct malicious pickle data which will execute arbitrary code during unpickling (See https://github.com/pytorch/pytorch/blob/main/SECURITY.md#untrusted-models for more details). In a future release, the default value for `weights_only` will be flipped to `True`. This limits the functions that could be executed during unpickling. Arbitrary objects will no longer be allowed to be loaded via this mode unless they are explicitly allowlisted by the user via `torch.serialization.add_safe_globals`. We recommend you start setting `weights_only=True` for any use case where you don't have full control of the loaded file. Please open an issue on GitHub for any issues related to this experimental feature.\n",
            "  model.load_state_dict(torch.load(model_path, map_location=torch.device('cpu')))\n"
          ]
        },
        {
          "output_type": "stream",
          "name": "stdout",
          "text": [
            "0\n",
            "tensor([[0.9205, 0.0795]], grad_fn=<SoftmaxBackward0>)\n"
          ]
        }
      ]
    },
    {
      "cell_type": "code",
      "source": [
        "import torch\n",
        "import torch.nn as nn\n",
        "import torchvision.transforms as T\n",
        "import torch.optim as optim\n",
        "from PIL import Image\n",
        "import numpy as np\n",
        "import os\n",
        "\n",
        "class Net(nn.Module):\n",
        "    def __init__(self, class_num):\n",
        "        super(Net, self).__init__()\n",
        "        self.feature = nn.Sequential(\n",
        "            nn.Conv2d(1, 32, kernel_size=3, padding=1, padding_mode=\"replicate\"),\n",
        "            nn.BatchNorm2d(32),\n",
        "            nn.ReLU(),\n",
        "            nn.Conv2d(32, 64, kernel_size=3, padding=1, padding_mode=\"replicate\"),\n",
        "            nn.BatchNorm2d(64),\n",
        "            nn.ReLU(),\n",
        "            nn.MaxPool2d(2),\n",
        "            nn.Dropout(0.25),\n",
        "\n",
        "            nn.Conv2d(64, 128, kernel_size=3, padding=1, padding_mode=\"replicate\"),\n",
        "            nn.BatchNorm2d(128),\n",
        "            nn.ReLU(),\n",
        "            nn.Conv2d(128, 128, kernel_size=3, padding=1, padding_mode=\"replicate\"),\n",
        "            nn.BatchNorm2d(128),\n",
        "            nn.ReLU(),\n",
        "            nn.MaxPool2d(2),\n",
        "            nn.Dropout(0.25)\n",
        "        )\n",
        "        self.classifier = nn.Sequential(\n",
        "            nn.Linear(128 * 16 * 16, 512),  # Adjust the input size to match the output from `feature`\n",
        "            nn.ReLU(),\n",
        "            nn.Dropout(0.5),\n",
        "            nn.Linear(512, class_num)\n",
        "        )\n",
        "\n",
        "    def forward(self, x):\n",
        "        x = self.feature(x)\n",
        "        x = x.view(x.size(0), -1)  # Flatten the tensor\n",
        "        x = self.classifier(x)\n",
        "        return x\n",
        "\n",
        "class Model():\n",
        "    def __init__(self, path, num_class=2, model_path='modelnew.pth'):\n",
        "        # Ensure the model path exists\n",
        "        if not os.path.isfile(model_path):\n",
        "            raise FileNotFoundError(f\"Model file not found: {model_path}\")\n",
        "\n",
        "        # Instantiate and load the model\n",
        "        self.model = Net(num_class)\n",
        "        self.model.load_state_dict(torch.load(model_path, map_location=torch.device('cpu')))\n",
        "        self.model.eval()  # Set the model to evaluation mode\n",
        "\n",
        "        # Preprocess the image\n",
        "        input_image = self.pretreatment(path)\n",
        "        input_tensor = input_image.unsqueeze(0)  # Add batch dimension\n",
        "\n",
        "        # Make predictions\n",
        "        with torch.no_grad():\n",
        "            self.output = self.model(input_tensor)\n",
        "            self.prob = nn.functional.softmax(self.output, dim=1)  # Convert to probabilities\n",
        "            self.result = torch.argmax(self.output, dim=1).item()  # Get the predicted class index\n",
        "\n",
        "    def pretreatment(self, img_path, new_size=(64, 64)):\n",
        "        img = np.array(Image.open(img_path).convert('RGB'))\n",
        "\n",
        "        weights = np.array([0.2989, 0.5870, 0.1140])\n",
        "        gray_image = np.dot(img[...,:3], weights)\n",
        "\n",
        "        pil_image = Image.fromarray((gray_image * 255).astype(np.uint8))\n",
        "        pil_image_resized = pil_image.resize(new_size, Image.LANCZOS)\n",
        "        resized_image = np.array(pil_image_resized).astype(np.float32) / 255.0\n",
        "\n",
        "        transform = T.Compose([T.Normalize(mean=[0.5], std=[0.5])])\n",
        "        image_tensor = torch.from_numpy(resized_image).unsqueeze(0)  # Add channel dimension\n",
        "        image = transform(image_tensor)\n",
        "\n",
        "        return image\n",
        "\n",
        "if __name__ == \"__main__\":\n",
        "    # Define path to the model and image\n",
        "    model_path = mainpath + 'modelnew.kpl'\n",
        "    image_path = mainpath + 'test/image2.jpeg'\n",
        "\n",
        "    # Initialize and use the model\n",
        "    model = Model(path=image_path, model_path=model_path)\n",
        "    print(f\"Predicted class: {model.result}\")\n",
        "    print(f\"Class probabilities: {model.prob}\")"
      ],
      "metadata": {
        "colab": {
          "base_uri": "https://localhost:8080/"
        },
        "id": "NaIVDgogkRrt",
        "outputId": "5334adf2-125d-4868-9630-9770fc02f3e8"
      },
      "execution_count": null,
      "outputs": [
        {
          "output_type": "stream",
          "name": "stderr",
          "text": [
            "<ipython-input-53-7d58b2f64239>:52: FutureWarning: You are using `torch.load` with `weights_only=False` (the current default value), which uses the default pickle module implicitly. It is possible to construct malicious pickle data which will execute arbitrary code during unpickling (See https://github.com/pytorch/pytorch/blob/main/SECURITY.md#untrusted-models for more details). In a future release, the default value for `weights_only` will be flipped to `True`. This limits the functions that could be executed during unpickling. Arbitrary objects will no longer be allowed to be loaded via this mode unless they are explicitly allowlisted by the user via `torch.serialization.add_safe_globals`. We recommend you start setting `weights_only=True` for any use case where you don't have full control of the loaded file. Please open an issue on GitHub for any issues related to this experimental feature.\n",
            "  self.model.load_state_dict(torch.load(model_path, map_location=torch.device('cpu')))\n"
          ]
        },
        {
          "output_type": "stream",
          "name": "stdout",
          "text": [
            "Predicted class: 0\n",
            "Class probabilities: tensor([[0.5247, 0.4753]])\n"
          ]
        }
      ]
    },
    {
      "cell_type": "markdown",
      "source": [],
      "metadata": {
        "id": "8nmE-USGghp1"
      }
    }
  ],
  "metadata": {
    "colab": {
      "provenance": [],
      "gpuType": "T4",
      "include_colab_link": true
    },
    "kernelspec": {
      "display_name": "Python 3",
      "name": "python3"
    },
    "language_info": {
      "codemirror_mode": {
        "name": "ipython",
        "version": 3
      },
      "file_extension": ".py",
      "mimetype": "text/x-python",
      "name": "python",
      "nbconvert_exporter": "python",
      "pygments_lexer": "ipython3",
      "version": "3.12.5"
    },
    "accelerator": "GPU"
  },
  "nbformat": 4,
  "nbformat_minor": 0
}